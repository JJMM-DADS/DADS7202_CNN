{
 "cells": [
  {
   "cell_type": "code",
   "execution_count": null,
   "id": "30357afb",
   "metadata": {},
   "outputs": [],
   "source": [
    "import os\n",
    "import cv2\n",
    "import matplotlib.pyplot as plt\n",
    "import pickle\n"
   ]
  },
  {
   "cell_type": "code",
   "execution_count": null,
   "id": "03552f28",
   "metadata": {},
   "outputs": [],
   "source": [
    "path = \"C:/Users/natee/PycharmProjects/betta/data/data/\"\n",
    "dir_list = os.listdir(path)\n",
    "print(\"Files and directories in '\", path, \"' :\")\n",
    "# prints all files\n",
    "print(dir_list)\n",
    "c=0\n",
    "x=[]\n",
    "y=[]\n",
    "for sub_f in dir_list: \n",
    "    path2=path+sub_f\n",
    "    dir_list2 = os.listdir(path2)\n",
    "    for file in dir_list2:\n",
    "        print(path+sub_f+\"/\"+file)\n",
    "        print(c,path+sub_f+\"/\"+file)\n",
    "        path_img=path+sub_f+\"/\"+file\n",
    "        img = cv2.imread(path_img)\n",
    "        img_resized = cv2.resize(img,(224,224), interpolation = cv2.INTER_AREA)\n",
    "        plt.imshow(img_resized)\n",
    "        plt.show(10)\n",
    "        x.append(img_resized)\n",
    "        y.append(c)\n",
    "    c=c+1\n",
    "\n",
    "\n",
    "    "
   ]
  },
  {
   "cell_type": "code",
   "execution_count": null,
   "id": "9b475552",
   "metadata": {},
   "outputs": [],
   "source": [
    "len(x)"
   ]
  },
  {
   "cell_type": "code",
   "execution_count": null,
   "id": "c77c6336",
   "metadata": {},
   "outputs": [],
   "source": [
    "import tensorflow as tf\n",
    "import numpy as np\n",
    "\n",
    "def augment(img):\n",
    "    data_augmentation = tf.keras.Sequential([\n",
    "              tf.keras.layers.experimental.preprocessing.RandomFlip('horizontal'),\n",
    "              tf.keras.layers.experimental.preprocessing.RandomRotation(0.1),\n",
    "             ])    \n",
    "    return data_augmentation(img)\n",
    "\n",
    "# generate 10 images 8x8 RGB\n",
    "data_x = x\n",
    "data_y = y\n",
    "x_aug=[]\n",
    "y_aug=[]\n",
    "print(len(x),len(y))\n",
    "i=1\n",
    "for xn, yn in zip(data_x ,data_y):\n",
    "    print(i)\n",
    "    aug_d = augment(xn)\n",
    "    aug_d =aug_d.numpy()\n",
    "    \n",
    "    if np.array_equal(aug_d,xn)== False:\n",
    "        x_aug.append(aug_d)\n",
    "        y_aug.append(yn)\n",
    "        '''\n",
    "        plt.subplot(121)\n",
    "        plt.imshow(xn)\n",
    "        plt.subplot(122)\n",
    "        plt.imshow(aug_d)\n",
    "        plt.show(10)\n",
    "        '''\n",
    "    else:\n",
    "        print(\"same\")\n",
    "    i=i+1\n"
   ]
  },
  {
   "cell_type": "code",
   "execution_count": null,
   "id": "6bdd8545",
   "metadata": {},
   "outputs": [],
   "source": [
    "x_Ag=[*x,*x_aug]\n",
    "y_Ag=[*y,*y_aug]\n",
    "print(len(x_Ag),len(y_Ag))\n",
    "'''\n",
    "for i in range(0,len(x_Ag)-1):\n",
    "    print(i,y_Ag[i],dir_list[y_Ag[i]])\n",
    "    plt.imshow(x_Ag[i])\n",
    "    plt.show(10)\n",
    "'''"
   ]
  },
  {
   "cell_type": "code",
   "execution_count": null,
   "id": "9d65a5bb",
   "metadata": {},
   "outputs": [],
   "source": [
    "import random\n",
    "\n",
    "x_new=[]\n",
    "y_new=[]\n",
    "all_number=[]\n",
    "\n",
    "while True:\n",
    "    number=random.randint(0,len(x_Ag)-1)\n",
    "    if (number not in all_number) :\n",
    "        print(number)\n",
    "        x_new.append(x_Ag[number])\n",
    "        y_new.append(y_Ag[number])\n",
    "        all_number.append(number)\n",
    "    else:\n",
    "        pass\n",
    "    \n",
    "    if len(x_new)==len(x_Ag):\n",
    "        break      \n",
    "'''\n",
    "for i in range(0,len(x)-1):\n",
    "    print(y_new[i],dir_list[y_new[i]])\n",
    "    plt.imshow(x_new[i])\n",
    "    plt.show(10)\n",
    "'''"
   ]
  },
  {
   "cell_type": "code",
   "execution_count": null,
   "id": "f87342af",
   "metadata": {},
   "outputs": [],
   "source": [
    "print(len(x_new),len(y_new))\n",
    "dataset=[x_new,y_new]\n",
    "\n",
    "file = open('data_set2.plk', 'wb')\n",
    "# dump information to that file\n",
    "pickle.dump(dataset, file)\n",
    "file.close()"
   ]
  },
  {
   "cell_type": "code",
   "execution_count": null,
   "id": "6c03d915",
   "metadata": {},
   "outputs": [],
   "source": [
    "file = open('data_set2.plk', 'rb')\n",
    "data_all = pickle.load(file)"
   ]
  }
 ],
 "metadata": {
  "kernelspec": {
   "display_name": "Python 3",
   "language": "python",
   "name": "python3"
  },
  "language_info": {
   "codemirror_mode": {
    "name": "ipython",
    "version": 3
   },
   "file_extension": ".py",
   "mimetype": "text/x-python",
   "name": "python",
   "nbconvert_exporter": "python",
   "pygments_lexer": "ipython3",
   "version": "3.8.8"
  }
 },
 "nbformat": 4,
 "nbformat_minor": 5
}
